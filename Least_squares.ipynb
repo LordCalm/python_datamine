{
 "cells": [
  {
   "cell_type": "markdown",
   "id": "1da4546f",
   "metadata": {},
   "source": [
    "# Метод наименьших квадратов для многочлена"
   ]
  },
  {
   "cell_type": "markdown",
   "id": "5cd02ae7",
   "metadata": {},
   "source": [
    "Прогнозируемая модель должна принимать форму полинома:\n",
    "$f(x)=a_0+a_1x+a_2x^2+\\dots+a_nx^n$\n",
    "\n",
    "В рамках задачи метод наименьших квадратов заключается в том, чтобы взять в качестве параметров $a_n$ такие значения, чтобы сумма квадратов ошибок прогноза была минимальной:\n",
    "$\\sum_{i=0}^n (y_i - \\hat{y}_i)^2 \\to \\min$, где $\\hat{y}_i$ — прогнозируемое значение $y_i$."
   ]
  },
  {
   "cell_type": "markdown",
   "id": "e8546a3a",
   "metadata": {},
   "source": [
    "Чтобы найти неизвестные параметры $a_n$ в матричной форме, необходимо упростить формулу:\n",
    "\n",
    "$(A^TA)^{-1}A^TA \\cdot \\mathbf{a} = (A^TA)^{-1}A^T \\cdot \\mathbf{y}$\n",
    "$A^TA \\cdot \\mathbf{a} = A^T \\cdot \\mathbf{y}$\n",
    "\n",
    "Финальная формула для нахождения искомых параметров **a**:\n",
    "$\\mathbf{a}=(A^TA)^{-1}A^T \\mathbf{y}$"
   ]
  },
  {
   "cell_type": "code",
   "execution_count": 92,
   "id": "136a22e5",
   "metadata": {},
   "outputs": [],
   "source": [
    "import pandas as pd\n",
    "import numpy as np\n",
    "import matplotlib.pyplot as plt\n",
    "from sklearn import metrics"
   ]
  },
  {
   "cell_type": "code",
   "execution_count": null,
   "id": "f5b9878a",
   "metadata": {},
   "outputs": [],
   "source": [
    "x = np.linspace(1, 10, 10)"
   ]
  },
  {
   "cell_type": "code",
   "execution_count": 113,
   "id": "edaf24f1",
   "metadata": {},
   "outputs": [],
   "source": [
    "# Функция для предсказания\n",
    "f = lambda x: 10"
   ]
  },
  {
   "cell_type": "code",
   "execution_count": 114,
   "id": "87928762",
   "metadata": {},
   "outputs": [],
   "source": [
    "ex = np.random.normal(-1, 1, len(x))"
   ]
  },
  {
   "cell_type": "code",
   "execution_count": 115,
   "id": "fe2bc390",
   "metadata": {},
   "outputs": [],
   "source": [
    "e = 10 # множитель шума\n",
    "y = f(x) + e * ex  # данные с шумом"
   ]
  },
  {
   "cell_type": "code",
   "execution_count": 220,
   "id": "ca15479d",
   "metadata": {},
   "outputs": [],
   "source": [
    "# Степень многочлена\n",
    "degree = 15"
   ]
  },
  {
   "cell_type": "code",
   "execution_count": 221,
   "id": "131653a3",
   "metadata": {},
   "outputs": [],
   "source": [
    "# Строим матрицу Вандермонда\n",
    "X = np.vander(x, degree+1, increasing=True)  # [1, x, x^2, ...]"
   ]
  },
  {
   "cell_type": "code",
   "execution_count": 222,
   "id": "ab544563",
   "metadata": {},
   "outputs": [],
   "source": [
    "# Решаем нормальные уравнения: (X^T X) a = X^T y\n",
    "XT = X.T\n",
    "A = XT @ X\n",
    "b = XT @ y"
   ]
  },
  {
   "cell_type": "code",
   "execution_count": 223,
   "id": "210fc8fa",
   "metadata": {},
   "outputs": [],
   "source": [
    "# Вместо np.linalg.solve(A, b)\n",
    "A_inv = np.linalg.inv(A)   # обратная матрица\n",
    "coeffs = A_inv @ b"
   ]
  },
  {
   "cell_type": "code",
   "execution_count": 224,
   "id": "bacb57a3",
   "metadata": {},
   "outputs": [
    {
     "name": "stdout",
     "output_type": "stream",
     "text": [
      "Коэффициенты многочлена: [ 2.86414219e+02 -4.71172470e+02  4.46033707e+01  4.13381538e+02\n",
      " -3.96940742e+02  1.77367079e+02 -4.40725536e+01  5.78396958e+00\n",
      " -1.92911815e-01 -4.97894473e-02  6.01011241e-03  6.10942807e-05\n",
      " -5.51636257e-05  3.97828435e-06 -9.96712313e-08  2.70112155e-10]\n"
     ]
    }
   ],
   "source": [
    "print(\"Коэффициенты многочлена:\", coeffs)"
   ]
  },
  {
   "cell_type": "code",
   "execution_count": 225,
   "id": "7f45518b",
   "metadata": {},
   "outputs": [],
   "source": [
    "# Строим аппроксимирующую кривую\n",
    "x_fit = np.linspace(min(x), max(x), 200)\n",
    "X_fit = np.vander(x_fit, degree+1, increasing=True)\n",
    "y_fit = X_fit @ coeffs"
   ]
  },
  {
   "cell_type": "code",
   "execution_count": 226,
   "id": "6d0761c9",
   "metadata": {},
   "outputs": [
    {
     "data": {
      "image/png": "[encoded data removed]",
      "text/plain": [
       "<Figure size 640x480 with 1 Axes>"
      ]
     },
     "metadata": {},
     "output_type": "display_data"
    }
   ],
   "source": [
    "# График\n",
    "plt.scatter(x, y, color=\"red\", label=\"Данные\")\n",
    "plt.plot(x_fit, y_fit, color=\"blue\", label=f\"МНК многочлен степени {degree}\")\n",
    "plt.legend()\n",
    "plt.grid(True)\n",
    "plt.show()"
   ]
  },
  {
   "cell_type": "code",
   "execution_count": 227,
   "id": "fdce453c",
   "metadata": {},
   "outputs": [
    {
     "name": "stdout",
     "output_type": "stream",
     "text": [
      "Сумма квадратов отклонений (расстояние): 7587.948491114643\n"
     ]
    }
   ],
   "source": [
    "y_pred = X @ coeffs\n",
    "# Ошибки\n",
    "errors = y - y_pred\n",
    "# Сумма квадратов ошибок (расстояние по МНК)\n",
    "S = np.sum(errors**2)\n",
    "print(\"Сумма квадратов отклонений (расстояние):\", S)"
   ]
  },
  {
   "cell_type": "markdown",
   "id": "615a3ec3",
   "metadata": {},
   "source": [
    "## Расстояние между функцией и набором точек"
   ]
  },
  {
   "cell_type": "markdown",
   "id": "64ed31fc",
   "metadata": {},
   "source": [
    "Методом наименьших квадратов посчитайте расстояние между функцией y = x2 + 1 и набором точек:\n",
    "| i | 1 | 2 | 3 | 4 | 5 | 6 | 7 | 8 | 9 | 10 |\n",
    "|---|---|---|---|---|---|---|---|---|---|---|\n",
    "| $x_i$ | -0.5 | 0.81 | 0.99 | 0.65 | 2.9 | 1.4 | 3.2 | 0.01 | 2.13 | 1.7 |\n",
    "| $y_i$ | -3.67 | 2.99 | 1.83 | 3.95 | 2.11 | 4.15 | 0.23 | 2.22 | 1.01 | 4.56 |\n"
   ]
  },
  {
   "cell_type": "code",
   "execution_count": 13,
   "id": "5fbf9630",
   "metadata": {},
   "outputs": [],
   "source": [
    "# Данные\n",
    "x = np.array([-0.5, 0.81, 0.99, 0.6, 5, 2.9, 1.4, 3.2, 0.01, 2.13])\n",
    "y = np.array([-3.67, 2.99, 1.83, 3.95, 2.11, 4.15, 0.23, 2.22, 1.01, 4.56])"
   ]
  },
  {
   "cell_type": "code",
   "execution_count": 14,
   "id": "8b8d813b",
   "metadata": {},
   "outputs": [],
   "source": [
    "# Функция\n",
    "f = lambda x: x**2 + 1"
   ]
  },
  {
   "cell_type": "code",
   "execution_count": 15,
   "id": "0c9ad430",
   "metadata": {},
   "outputs": [
    {
     "data": {
      "text/plain": [
       "array([ 1.25  ,  1.6561,  1.9801,  1.36  , 26.    ,  9.41  ,  2.96  ,\n",
       "       11.24  ,  1.0001,  5.5369])"
      ]
     },
     "execution_count": 15,
     "metadata": {},
     "output_type": "execute_result"
    }
   ],
   "source": [
    "# Вычисляем значения функции в точках xi\n",
    "y_pred = f(x)\n",
    "y_pred"
   ]
  },
  {
   "cell_type": "code",
   "execution_count": 16,
   "id": "309ec5c8",
   "metadata": {},
   "outputs": [],
   "source": [
    "# Ошибки\n",
    "errors = y - y_pred"
   ]
  },
  {
   "cell_type": "code",
   "execution_count": 17,
   "id": "1d326020",
   "metadata": {},
   "outputs": [
    {
     "name": "stdout",
     "output_type": "stream",
     "text": [
      "Сумма квадратов отклонений (расстояние): 720.8837508400001\n"
     ]
    }
   ],
   "source": [
    "# Сумма квадратов ошибок (расстояние по МНК)\n",
    "S = np.sum(errors**2)\n",
    "print(\"Сумма квадратов отклонений (расстояние):\", S)"
   ]
  },
  {
   "cell_type": "code",
   "execution_count": 18,
   "id": "e28adbbd",
   "metadata": {},
   "outputs": [
    {
     "data": {
      "image/png": "[encoded data removed]",
      "text/plain": [
       "<Figure size 640x480 with 1 Axes>"
      ]
     },
     "metadata": {},
     "output_type": "display_data"
    }
   ],
   "source": [
    "# График\n",
    "x_plot = np.linspace(min(x)-1, max(x)+1, 200)\n",
    "y_plot = f(x_plot)\n",
    "\n",
    "plt.scatter(x, y, color=\"red\", label=\"Точки\")\n",
    "plt.plot(x_plot, y_plot, color=\"blue\", label=\"y = x^2 + 1\")\n",
    "for xi, yi, fi in zip(x, y, y_pred):\n",
    "    plt.plot([xi, xi], [yi, fi], \"g--\", linewidth=0.8)  # линии ошибок\n",
    "plt.legend()\n",
    "plt.grid(True)\n",
    "plt.show()"
   ]
  },
  {
   "cell_type": "code",
   "execution_count": null,
   "id": "39f5452b",
   "metadata": {},
   "outputs": [],
   "source": []
  },
  {
   "cell_type": "markdown",
   "id": "d2f9b11d",
   "metadata": {},
   "source": [
    "## Тестирование МНК на реальных данных"
   ]
  },
  {
   "cell_type": "code",
   "execution_count": 19,
   "id": "3bff4643",
   "metadata": {},
   "outputs": [
    {
     "data": {
      "text/html": [
       "<div>\n",
       "<style scoped>\n",
       "    .dataframe tbody tr th:only-of-type {\n",
       "        vertical-align: middle;\n",
       "    }\n",
       "\n",
       "    .dataframe tbody tr th {\n",
       "        vertical-align: top;\n",
       "    }\n",
       "\n",
       "    .dataframe thead th {\n",
       "        text-align: right;\n",
       "    }\n",
       "</style>\n",
       "<table border=\"1\" class=\"dataframe\">\n",
       "  <thead>\n",
       "    <tr style=\"text-align: right;\">\n",
       "      <th></th>\n",
       "      <th>Price</th>\n",
       "      <th>Metro station_0</th>\n",
       "      <th>Metro station_1</th>\n",
       "      <th>Metro station_2</th>\n",
       "      <th>Metro station_3</th>\n",
       "      <th>Metro station_4</th>\n",
       "      <th>Metro station_5</th>\n",
       "      <th>Metro station_6</th>\n",
       "      <th>Metro station_7</th>\n",
       "      <th>Metro station_8</th>\n",
       "      <th>...</th>\n",
       "      <th>Living area</th>\n",
       "      <th>Kitchen area</th>\n",
       "      <th>Floor</th>\n",
       "      <th>Number of floors</th>\n",
       "      <th>Apartment_type_Digit</th>\n",
       "      <th>Region_Digit</th>\n",
       "      <th>Renovation_N_Cosmetic</th>\n",
       "      <th>Renovation_N_Designer</th>\n",
       "      <th>Renovation_N_European-style renovation</th>\n",
       "      <th>Renovation_N_Without renovation</th>\n",
       "    </tr>\n",
       "  </thead>\n",
       "  <tbody>\n",
       "    <tr>\n",
       "      <th>0</th>\n",
       "      <td>9000000.0</td>\n",
       "      <td>0</td>\n",
       "      <td>0</td>\n",
       "      <td>0</td>\n",
       "      <td>0</td>\n",
       "      <td>0</td>\n",
       "      <td>0</td>\n",
       "      <td>0</td>\n",
       "      <td>0</td>\n",
       "      <td>0</td>\n",
       "      <td>...</td>\n",
       "      <td>20.0</td>\n",
       "      <td>10.0</td>\n",
       "      <td>6.0</td>\n",
       "      <td>15</td>\n",
       "      <td>0</td>\n",
       "      <td>0</td>\n",
       "      <td>0</td>\n",
       "      <td>0</td>\n",
       "      <td>1</td>\n",
       "      <td>0</td>\n",
       "    </tr>\n",
       "    <tr>\n",
       "      <th>1</th>\n",
       "      <td>11090000.0</td>\n",
       "      <td>0</td>\n",
       "      <td>0</td>\n",
       "      <td>0</td>\n",
       "      <td>0</td>\n",
       "      <td>0</td>\n",
       "      <td>0</td>\n",
       "      <td>0</td>\n",
       "      <td>0</td>\n",
       "      <td>1</td>\n",
       "      <td>...</td>\n",
       "      <td>16.2</td>\n",
       "      <td>13.1</td>\n",
       "      <td>10.0</td>\n",
       "      <td>25</td>\n",
       "      <td>0</td>\n",
       "      <td>0</td>\n",
       "      <td>1</td>\n",
       "      <td>0</td>\n",
       "      <td>0</td>\n",
       "      <td>0</td>\n",
       "    </tr>\n",
       "  </tbody>\n",
       "</table>\n",
       "<p>2 rows × 24 columns</p>\n",
       "</div>"
      ],
      "text/plain": [
       "        Price  Metro station_0  Metro station_1  Metro station_2  \\\n",
       "0   9000000.0                0                0                0   \n",
       "1  11090000.0                0                0                0   \n",
       "\n",
       "   Metro station_3  Metro station_4  Metro station_5  Metro station_6  \\\n",
       "0                0                0                0                0   \n",
       "1                0                0                0                0   \n",
       "\n",
       "   Metro station_7  Metro station_8  ...  Living area  Kitchen area  Floor  \\\n",
       "0                0                0  ...         20.0          10.0    6.0   \n",
       "1                0                1  ...         16.2          13.1   10.0   \n",
       "\n",
       "   Number of floors  Apartment_type_Digit  Region_Digit  \\\n",
       "0                15                     0             0   \n",
       "1                25                     0             0   \n",
       "\n",
       "   Renovation_N_Cosmetic  Renovation_N_Designer  \\\n",
       "0                      0                      0   \n",
       "1                      1                      0   \n",
       "\n",
       "   Renovation_N_European-style renovation  Renovation_N_Without renovation  \n",
       "0                                       1                                0  \n",
       "1                                       0                                0  \n",
       "\n",
       "[2 rows x 24 columns]"
      ]
     },
     "execution_count": 19,
     "metadata": {},
     "output_type": "execute_result"
    }
   ],
   "source": [
    "df = pd.read_csv(\n",
    "    'Moscow_Housing_Price_Dataset_nan_24_PREPARED.csv', # путь к файлу через символ \"/\", (используйте автодополнение)\n",
    "    sep       = ',' ,\n",
    "    decimal   = '.' ,\n",
    "    header    = 0,  # если заголовки в нулевой строке таблицы,\n",
    "        #  header=None если заголовки отсутствуют\n",
    "    #na_values =  ['???', ' '], # доп. символы для обозначения отсутствующих значений\n",
    ")\n",
    "\n",
    "df[0:2] # отобразить первые строки таблицы df"
   ]
  },
  {
   "cell_type": "code",
   "execution_count": 20,
   "id": "096b2679",
   "metadata": {},
   "outputs": [],
   "source": [
    "# Данные\n",
    "x = df[\"Area\"]\n",
    "y = df[\"Price\"]  # данные с шумом"
   ]
  },
  {
   "cell_type": "code",
   "execution_count": 21,
   "id": "a35fe832",
   "metadata": {},
   "outputs": [],
   "source": [
    "# Степень многочлена\n",
    "degree = 1"
   ]
  },
  {
   "cell_type": "code",
   "execution_count": 22,
   "id": "3b7cf5f9",
   "metadata": {},
   "outputs": [],
   "source": [
    "# Строим матрицу Вандермонда\n",
    "X = np.vander(x, degree+1, increasing=True)  # [1, x, x^2, ...]"
   ]
  },
  {
   "cell_type": "code",
   "execution_count": 23,
   "id": "34d12c2b",
   "metadata": {},
   "outputs": [],
   "source": [
    "# Решаем нормальные уравнения: (X^T X) a = X^T y\n",
    "XT = X.T\n",
    "A = XT @ X\n",
    "b = XT @ y"
   ]
  },
  {
   "cell_type": "code",
   "execution_count": 24,
   "id": "95b445f7",
   "metadata": {},
   "outputs": [],
   "source": [
    "A_inv = np.linalg.inv(A)   # обратная матрица\n",
    "coeffs = A_inv @ b"
   ]
  },
  {
   "cell_type": "code",
   "execution_count": 25,
   "id": "b9a444c8",
   "metadata": {},
   "outputs": [
    {
     "name": "stdout",
     "output_type": "stream",
     "text": [
      "Коэффициенты многочлена: [-8458362.84914483   453267.6594187 ]\n"
     ]
    }
   ],
   "source": [
    "print(\"Коэффициенты многочлена:\", coeffs)"
   ]
  },
  {
   "cell_type": "code",
   "execution_count": 26,
   "id": "158477d7",
   "metadata": {},
   "outputs": [],
   "source": [
    "# Строим аппроксимирующую кривую\n",
    "x_fit = np.linspace(min(x), max(x), 200)\n",
    "X_fit = np.vander(x_fit, degree+1, increasing=True)\n",
    "y_fit = X_fit @ coeffs"
   ]
  },
  {
   "cell_type": "code",
   "execution_count": 27,
   "id": "d6687559",
   "metadata": {},
   "outputs": [
    {
     "data": {
      "image/png": "[encoded data removed]",
      "text/plain": [
       "<Figure size 640x480 with 1 Axes>"
      ]
     },
     "metadata": {},
     "output_type": "display_data"
    }
   ],
   "source": [
    "# График\n",
    "plt.scatter(x, y, color=\"red\", label=\"Данные\")\n",
    "plt.plot(x_fit, y_fit, color=\"blue\", label=f\"МНК многочлен степени {degree}\")\n",
    "plt.legend()\n",
    "plt.grid(True)\n",
    "plt.show()"
   ]
  },
  {
   "cell_type": "code",
   "execution_count": 28,
   "id": "26352620",
   "metadata": {},
   "outputs": [],
   "source": [
    "def PRINTR2(coeffs, y_test, y_pred) -> None:\n",
    "    '''\n",
    "    Функция построения графиков\n",
    "    :param y_test: - проверочные значения целевой переменной\n",
    "    :param y_pred: - вычисленные значения целевой переменной\n",
    "    '''\n",
    "    print (\"Метод наименьших квадратов\")\n",
    "    print (\"Многочлен y(X) = k0*x0 + ... kN*xN + b\")\n",
    "    print(f\"y = f(X) = \")\n",
    "    for i, kN in enumerate (coeffs):\n",
    "        if (i != 0) : print(f\" {' ' if i==1 else '+'}  {kN:.3f} * x{i} \")\n",
    "    print(f\" {'+'}  {coeffs[0]:.3f}\")\n",
    "    print(\"\\n\")\n",
    "\n",
    "    '''\n",
    "    Вычисление и вывод метрик: MAE, RMSE, R2.\n",
    "    На основе сравнения проверочных и вычисленных.\n",
    "    '''\n",
    "    mae  = metrics.mean_absolute_error(y_test, y_pred)\n",
    "    mse  = metrics.mean_squared_error (y_test, y_pred)\n",
    "    rmse = np.sqrt(mse)\n",
    "    r2   = metrics.r2_score           (y_test, y_pred)\n",
    "    print (\"MAE : {:>9,.3f} (средняя абсолютная ошибка)\".format( mae ))\n",
    "    print (\"MSE : {:>9,.6f} (среднеквадратичная ошибка)\".format( mse ))\n",
    "    print (\"RMSE: {:>9,.6f} (кв. корень из среднеквадратичной ошибки)\".format( rmse ))\n",
    "    print (\"R2  : {:>9,.3f} (коэфф. детерминации)\".format      ( r2 ))"
   ]
  },
  {
   "cell_type": "code",
   "execution_count": 29,
   "id": "f1405ecb",
   "metadata": {},
   "outputs": [],
   "source": [
    "y_pred = X @ coeffs"
   ]
  },
  {
   "cell_type": "code",
   "execution_count": 30,
   "id": "fd3702f1",
   "metadata": {},
   "outputs": [
    {
     "name": "stdout",
     "output_type": "stream",
     "text": [
      "Метод наименьших квадратов\n",
      "Многочлен y(X) = k0*x0 + ... kN*xN + b\n",
      "y = f(X) = \n",
      "    453267.659 * x1 \n",
      " +  -8458362.849\n",
      "\n",
      "\n",
      "MAE : 7,461,675.093 (средняя абсолютная ошибка)\n",
      "MSE : 116,094,371,305,225.843750 (среднеквадратичная ошибка)\n",
      "RMSE: 10,774,709.801439 (кв. корень из среднеквадратичной ошибки)\n",
      "R2  :     0.611 (коэфф. детерминации)\n"
     ]
    }
   ],
   "source": [
    "PRINTR2(coeffs, y, y_pred)"
   ]
  },
  {
   "cell_type": "code",
   "execution_count": null,
   "id": "9f8db5a7",
   "metadata": {},
   "outputs": [],
   "source": []
  }
 ],
 "metadata": {
  "kernelspec": {
   "display_name": "Python 3",
   "language": "python",
   "name": "python3"
  },
  "language_info": {
   "codemirror_mode": {
    "name": "ipython",
    "version": 3
   },
   "file_extension": ".py",
   "mimetype": "text/x-python",
   "name": "python",
   "nbconvert_exporter": "python",
   "pygments_lexer": "ipython3",
   "version": "3.11.9"
  }
 },
 "nbformat": 4,
 "nbformat_minor": 5
}
